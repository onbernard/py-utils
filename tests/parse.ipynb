{
 "cells": [
  {
   "cell_type": "code",
   "execution_count": 1,
   "metadata": {},
   "outputs": [],
   "source": [
    "from itertools import chain, tee\n",
    "from typing import (\n",
    "    Any,\n",
    "    Dict,\n",
    "    List,\n",
    "    Optional,\n",
    "    Sequence,\n",
    "    Tuple,\n",
    "    Iterator,\n",
    "    TypeVar,\n",
    "    Callable,\n",
    ")\n",
    "from dataclasses import dataclass, field\n",
    "import sys\n",
    "sys.path.append(\"../\")\n",
    "from iterparse import *"
   ]
  },
  {
   "cell_type": "code",
   "execution_count": 2,
   "metadata": {},
   "outputs": [],
   "source": [
    "@dataclass\n",
    "class XMLElement:\n",
    "    name: str\n",
    "    attributes: Dict[str,str]\n",
    "    children: List[\"XMLElement\"] = field(default_factory=lambda: [])\n",
    "    text: Optional[str] = None\n"
   ]
  },
  {
   "cell_type": "code",
   "execution_count": 8,
   "metadata": {},
   "outputs": [
    {
     "data": {
      "text/plain": [
       "([], XMLElement(name='afdsfq', attributes={}, children=[], text=None))"
      ]
     },
     "execution_count": 8,
     "metadata": {},
     "output_type": "execute_result"
    }
   ],
   "source": [
    "underscore = term(\"_\")\n",
    "\n",
    "element_name = join(\n",
    "    try_choice(\n",
    "        alpha,\n",
    "        term(\"_\")),\n",
    "    zero_or_more(\n",
    "        try_choice(\n",
    "            alpha,\n",
    "            numeric,\n",
    "            term_set(\"_.-\")))\n",
    ")\n",
    "element_name = transform(element_name, lambda x: x[0]+\"\".join(x[1]))\n",
    "\n",
    "attribute_name = element_name\n",
    "\n",
    "attribute_value = join(\n",
    "    term('\"'),\n",
    "    zero_or_more(negated(term_backtrack('\"'))),\n",
    "    term('\"')\n",
    ")\n",
    "attribute_value = transform(attribute_value, lambda x: \"\".join(x[1]))\n",
    "\n",
    "attribute_key_value = join(\n",
    "    attribute_name,\n",
    "    term(\"=\"),\n",
    "    attribute_value\n",
    ")\n",
    "attribute_key_value = transform(attribute_key_value, lambda x: (x[0],x[2]))\n",
    "\n",
    "self_closing_element = join(\n",
    "    term(\"<\"),\n",
    "    element_name,\n",
    "    zero_or_more(\n",
    "        skip_left(\n",
    "            one_or_more(space),\n",
    "            attribute_key_value\n",
    "        )\n",
    "    ),\n",
    "    term(\"/\"),\n",
    "    term(\">\")\n",
    ")\n",
    "self_closing_element = transform(\n",
    "    self_closing_element, \n",
    "    lambda x: XMLElement(name=x[1],attributes={k:v for k,v in x[2]})\n",
    ")\n",
    "\n",
    "opening_tag = join(\n",
    "    term(\"<\"),\n",
    "    element_name,\n",
    "    zero_or_more(\n",
    "        join(\n",
    "            one_or_more(space),\n",
    "            attribute_key_value\n",
    "        )\n",
    "    ),\n",
    "    term(\">\")\n",
    ")\n",
    "\n",
    "# TODO: this should not work\n",
    "self_closing_element(iter('<afdsfq a/>'))"
   ]
  }
 ],
 "metadata": {
  "kernelspec": {
   "display_name": "test",
   "language": "python",
   "name": "python3"
  },
  "language_info": {
   "codemirror_mode": {
    "name": "ipython",
    "version": 3
   },
   "file_extension": ".py",
   "mimetype": "text/x-python",
   "name": "python",
   "nbconvert_exporter": "python",
   "pygments_lexer": "ipython3",
   "version": "3.11.3"
  },
  "orig_nbformat": 4
 },
 "nbformat": 4,
 "nbformat_minor": 2
}
